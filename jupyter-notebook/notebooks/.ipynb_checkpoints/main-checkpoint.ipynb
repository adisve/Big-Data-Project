{
 "cells": [
  {
   "cell_type": "code",
   "execution_count": null,
   "metadata": {},
   "outputs": [],
   "source": [
    "from spark.preprocess import PreProcess\n",
    "\n",
    "\n",
    "hdfs_path = \"hdfs://namenode:9000/user/spark/reddit_comments/\"\n",
    "spark_master = \"spark://spark-master:7077\"\n",
    "\n",
    "preprocess = PreProcess(hdfs_path, spark_master)\n",
    "preprocess.run()\n",
    "preprocess.show()"
   ]
  }
 ],
 "metadata": {
  "kernelspec": {
   "display_name": "Python 3 (ipykernel)",
   "language": "python",
   "name": "python3"
  },
  "language_info": {
   "codemirror_mode": {
    "name": "ipython",
    "version": 3
   },
   "file_extension": ".py",
   "mimetype": "text/x-python",
   "name": "python",
   "nbconvert_exporter": "python",
   "pygments_lexer": "ipython3",
   "version": "3.11.6"
  }
 },
 "nbformat": 4,
 "nbformat_minor": 4
}

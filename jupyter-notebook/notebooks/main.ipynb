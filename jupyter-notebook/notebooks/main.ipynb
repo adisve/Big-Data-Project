{
 "cells": [
  {
   "cell_type": "code",
   "execution_count": 1,
   "metadata": {},
   "outputs": [
    {
     "name": "stderr",
     "output_type": "stream",
     "text": [
      "Setting default log level to \"WARN\".\n",
      "To adjust logging level use sc.setLogLevel(newLevel). For SparkR, use setLogLevel(newLevel).\n",
      "23/11/27 10:28:06 WARN NativeCodeLoader: Unable to load native-hadoop library for your platform... using builtin-java classes where applicable\n",
      "                                                                                \r"
     ]
    },
    {
     "name": "stdout",
     "output_type": "stream",
     "text": [
      "+-----------+------------+---------+----------+------------+----------------------+--------------------+-------+--------------+------+--------+--------------+-----+------------+--------------------+-------------+----------+----------------+----------+\n",
      "|created_utc|subreddit_id|  link_id|      name|score_hidden|author_flair_css_class|   author_flair_text|     id|removal_reason|gilded|archived|        author|score|retrieved_on|                body|distinguished|    edited|controversiality| parent_id|\n",
      "+-----------+------------+---------+----------+------------+----------------------+--------------------+-------+--------------+------+--------+--------------+-----+------------+--------------------+-------------+----------+----------------+----------+\n",
      "| 1430438400|    t5_2qo4s|t3_34g8mx|t1_cqug90h|           0|                  Heat|                Heat|cqug90h|          NULL|     0|       0|     WyaOfWade|    4|  1432703079|gg this one's ove...|         NULL|         0|               0| t3_34g8mx|\n",
      "| 1430438400|    t5_2cneq|t3_34f7mc|t1_cqug90i|           0|                  NULL|                NULL|cqug90i|          NULL|     0|       0|  Wicked_Truth|    0|  1432703079|Are you really im...|         NULL|         0|               0|t1_cqufim0|\n",
      "| 1430438400|    t5_2qh1i|t3_34f9rh|t1_cqug90j|           0|                  NULL|                NULL|cqug90j|          NULL|     0|       0|      jesse9o3|    3|  1432703079|No one has a Euro...|         NULL|         0|               0|t1_cqug2sr|\n",
      "| 1430438400|    t5_2qh1i|t3_34fvry|t1_cqug90k|           0|                  NULL|                NULL|cqug90k|          NULL|     0|       0|beltfedshooter|    3|  1432703079|\"That the kid \"\"....|         NULL|         0|               0| t3_34fvry|\n",
      "| 1430438400|    t5_31k9i|t3_34gitq|t1_cqug90l|           0|                  NULL|                NULL|cqug90l|          NULL|     0|       0|    Rubenticus|    1|  1432703079|Haha, i was getti...|         NULL|         0|               0|t1_cqug10q|\n",
      "| 1430438400|    t5_2s5fm|t3_34e7uq|t1_cqug90n|           0|                Titan3|                NULL|cqug90n|          NULL|     0|       0|    Scrubtanic|    2|  1432703079|Let's do this. Se...|    moderator|         0|               0| t3_34e7uq|\n",
      "| 1430438400|    t5_2r090|t3_34gcwh|t1_cqug90o|           0|                T10B10|            [Philly]|cqug90o|          NULL|     0|       0|      burnmyiz|    6|  1432703079|You can buy a mys...|         NULL|         0|               0| t3_34gcwh|\n",
      "| 1430438400|    t5_2sqho|t3_34gmag|t1_cqug90p|           0|                fan vp|      Virtus.pro Fan|cqug90p|          NULL|     0|       0|     BEE_REAL_|    5|  1432703079|Nihilum and LG ar...|         NULL|         0|               0| t3_34gmag|\n",
      "| 1430438400|    t5_2qi5w|t3_34gmq6|t1_cqug90q|           0|            modernbird|                NULL|cqug90q|          NULL|     0|       0|          SNVG|    4|  1432703079|      Fuck that what|         NULL|         0|               0| t3_34gmq6|\n",
      "| 1430438400|    t5_2qiep|t3_34eznn|t1_cqug90r|           0|             FZeroLogo|3024-7470-9499 NN...|cqug90r|          NULL|     0|       0|      BiigLord|    1|  1432703079|Don't diss the Gr...|         NULL|         0|               0|t1_cqu4f8j|\n",
      "| 1430438400|    t5_2sqw4|t3_3479aj|t1_cqug90s|           0|                  NULL|                NULL|cqug90s|          NULL|     0|       0|       KingEze|    1|  1432703079|Your 16 bars seem...|         NULL|         0|               0|t1_cqs3tw2|\n",
      "| 1430438400|    t5_32byj|t3_34g2ci|t1_cqug90t|           0|                  NULL|                NULL|cqug90t|          NULL|     0|       0|       cyborek|    3|  1432703079|Trinus vr is amaz...|         NULL|         0|               0|t1_cqucws5|\n",
      "| 1430438400|    t5_2qn90|t3_34gj3a|t1_cqug90v|           0|      brisbane-broncos|    Brisbane Broncos|cqug90v|          NULL|     0|       0|      jeauxoxo|    3|  1432703079|http://www.reddit...|         NULL|         0|               0|t1_cqufyef|\n",
      "| 1430438400|    t5_2tqi0|t3_34g58c|t1_cqug90w|           0|                  NULL|                NULL|cqug90w|          NULL|     0|       0|Chainsaw_Ninja|    0|  1432703079|and what about al...|         NULL|         0|               0|t1_cquegpk|\n",
      "| 1430438400|    t5_2qh1i|t3_34ffo5|t1_cqug90z|           0|                  NULL|                NULL|cqug90z|          NULL|     0|       0| InterimFatGuy|    5|  1432703079|                NSFL|         NULL|         0|               0|t1_cqu80zb|\n",
      "| 1430438401|    t5_2uo3q|t3_34dmmq|t1_cqug910|           0|                  NULL|                NULL|cqug910|          NULL|     0|       0|    onefreaky1|    1|  1432703079|I'd recommend, if...|         NULL|         0|               0|t1_cqu565v|\n",
      "| 1430438401|    t5_324pu|t3_34gj60|t1_cqug911|           0|                  NULL|                NULL|cqug911|          NULL|     0|       0|    ChibiLunar|    1|  1432703079|I'm just an ordin...|         NULL|         0|               0| t3_34gj60|\n",
      "| 1430438401|    t5_2qqjc|t3_34ehuo|t1_cqug912|           0|                  NULL|                NULL|cqug912|          NULL|     0|       0|   Numericaly7|    0|  1432703079|Get back to your ...|         NULL|         0|               0|t1_cqug6eg|\n",
      "| 1430438401|    t5_2qi86|t3_34cmnz|t1_cqug913|           0|                  NULL|                NULL|cqug913|          NULL|     0|       0|    coppertech|    3|  1432703079|99.99% of the pow...|         NULL|1430438766|               0|t1_cquerxa|\n",
      "| 1430438401|    t5_2viyl|t3_34ft7f|t1_cqug914|           0|            56pearlgem|                NULL|cqug914|          NULL|     0|       0|arrantSagacity|    2|  1432703079|At least we got S...|         NULL|         0|               0|t1_cqucw6v|\n",
      "+-----------+------------+---------+----------+------------+----------------------+--------------------+-------+--------------+------+--------+--------------+-----+------------+--------------------+-------------+----------+----------------+----------+\n",
      "only showing top 20 rows\n",
      "\n"
     ]
    }
   ],
   "source": [
    "from spark.preprocess import PreProcess\n",
    "\n",
    "\n",
    "hdfs_path = \"hdfs://namenode:9000/user/spark/reddit_comments/\"\n",
    "spark_master = \"spark://spark-master:7077\"\n",
    "\n",
    "preprocess = PreProcess(hdfs_path, spark_master)\n",
    "preprocess.run()\n",
    "preprocess.show()"
   ]
  },
  {
   "cell_type": "code",
   "execution_count": null,
   "metadata": {},
   "outputs": [],
   "source": []
  }
 ],
 "metadata": {
  "kernelspec": {
   "display_name": "Python 3 (ipykernel)",
   "language": "python",
   "name": "python3"
  },
  "language_info": {
   "codemirror_mode": {
    "name": "ipython",
    "version": 3
   },
   "file_extension": ".py",
   "mimetype": "text/x-python",
   "name": "python",
   "nbconvert_exporter": "python",
   "pygments_lexer": "ipython3",
   "version": "3.11.6"
  }
 },
 "nbformat": 4,
 "nbformat_minor": 4
}

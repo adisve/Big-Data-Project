{
 "cells": [
  {
   "cell_type": "markdown",
   "metadata": {},
   "source": [
    "# Reddit Comments from May 2015\n",
    "\n",
    "This dataset contains every publicly available Reddit comment for the month of May, 2015. Approximately 37 million comments were made by 2.7 million unique authors, stored in a ~15 GB compressed file."
   ]
  },
  {
   "cell_type": "code",
   "execution_count": 1,
   "metadata": {},
   "outputs": [
    {
     "name": "stderr",
     "output_type": "stream",
     "text": [
      "Setting default log level to \"WARN\".\n",
      "To adjust logging level use sc.setLogLevel(newLevel). For SparkR, use setLogLevel(newLevel).\n",
      "23/12/01 18:59:39 WARN NativeCodeLoader: Unable to load native-hadoop library for your platform... using builtin-java classes where applicable\n",
      "                                                                                \r"
     ]
    },
    {
     "name": "stdout",
     "output_type": "stream",
     "text": [
      "+-----------+------------+---------+----------+------------+----------------------+-----------------+-------+--------------+------+--------+------------------+-----+------------+--------------------+-------------+----------+----------------+----------+\n",
      "|created_utc|subreddit_id|  link_id|      name|score_hidden|author_flair_css_class|author_flair_text|     id|removal_reason|gilded|archived|            author|score|retrieved_on|                body|distinguished|    edited|controversiality| parent_id|\n",
      "+-----------+------------+---------+----------+------------+----------------------+-----------------+-------+--------------+------+--------+------------------+-----+------------+--------------------+-------------+----------+----------------+----------+\n",
      "| 1431317199|    t5_2qh1i|t3_35jfjt|t1_cr56nez|           0|                  NULL|             NULL|cr56nez|          NULL|     2|       0|          buckus69| 6761|  1432889424|Then you got your...|         NULL|         0|               0|t1_cr56jvy|\n",
      "| 1430746080|    t5_2qh1i|t3_34t8yf|t1_cqxx3fj|           0|                  NULL|             NULL|cqxx3fj|          NULL|     0|       0|       SpaizKadett| 5849|  1432762795|Thanks man and al...|         NULL|         0|               0|t1_cqxvi1h|\n",
      "| 1431583352|    t5_2qh1i|t3_35wytd|t1_cr8nddw|           0|                  NULL|             NULL|cr8nddw|          NULL|     1|       0|        lolbuttlol| 5776|  1433055189|We had an office ...|         NULL|         0|               0| t3_35wytd|\n",
      "| 1431351418|    t5_2qh1i|t3_35l896|t1_cr5gmqg|           0|                  NULL|             NULL|cr5gmqg|          NULL|     0|       0| DerpHerpMapleSerp| 5767|  1432894198|OP are you alrigh...|         NULL|         0|               0| t3_35l896|\n",
      "| 1432751109|    t5_2qh1i|t3_37himl|t1_crmqs3w|           0|                  NULL|             NULL|crmqs3w|          NULL|     2|       0|        nimrodrool| 5762|  1433298807|So she's pregnant...|         NULL|         0|               0| t3_37himl|\n",
      "| 1431523485|    t5_2qh1i|t3_35tpuk|t1_cr7p814|           0|                  NULL|             NULL|cr7p814|          NULL|     0|       0|CaptainDickfingers| 5710|  1433038816|Forum based websi...|         NULL|1431537899|               0| t3_35tpuk|\n",
      "| 1430547586|    t5_2qh1i|t3_34lgpv|t1_cqvu3df|           0|                  NULL|             NULL|cqvu3df|          NULL|     2|       0|             byllz| 5699|  1432726927|It would be the i...|         NULL|         0|               0| t3_34lgpv|\n",
      "| 1433107329|    t5_2qh1i|t3_37zzbx|t1_crr6ioo|           0|                  NULL|             NULL|crr6ioo|          NULL|     1|       0|         raceto10k| 5673|  1433503616|         ¯\\\\_(ツ)_/¯|         NULL|         0|               0|t1_crr6f4g|\n",
      "| 1430786340|    t5_2qh33|t3_34vejv|t1_cqyksjq|           0|                  NULL|             NULL|cqyksjq|          NULL|    10|       0|        RyanMirvis| 5642|  1432774689|HEY! THAT'S ME!!!...|         NULL|1430788485|               0| t3_34vejv|\n",
      "| 1430509057|    t5_2qh1i|t3_34ir1q|t1_cqvc0x7|           0|                  NULL|             NULL|cqvc0x7|          NULL|     1|       0|        Cambridge_| 5570|  1432718272|Being fucking lat...|         NULL|         0|               0| t3_34ir1q|\n",
      "+-----------+------------+---------+----------+------------+----------------------+-----------------+-------+--------------+------+--------+------------------+-----+------------+--------------------+-------------+----------+----------------+----------+\n",
      "only showing top 10 rows\n",
      "\n"
     ]
    }
   ],
   "source": [
    "from spark.dataset import Dataset\n",
    "\n",
    "\n",
    "hdfs_path = \"hdfs://namenode:9000/user/spark/reddit_comments/\"\n",
    "spark_master = \"spark://spark-master:7077\"\n",
    "\n",
    "dataset = Dataset(hdfs_path, spark_master)\n",
    "dataset.pre_process()\n",
    "\n",
    "# Test\n",
    "dataset.dataframe.sort(\"score\", ascending=False).show(10)"
   ]
  },
  {
   "cell_type": "code",
   "execution_count": 3,
   "metadata": {},
   "outputs": [
    {
     "name": "stderr",
     "output_type": "stream",
     "text": [
      "23/12/01 19:27:44 WARN SparkStringUtils: Truncated the string representation of a plan since it was too large. This behavior can be adjusted by setting 'spark.sql.debug.maxToStringFields'.\n",
      "[Stage 10:>                                                         (0 + 1) / 1]\r"
     ]
    },
    {
     "name": "stdout",
     "output_type": "stream",
     "text": [
      "+-------+--------------------+------------+--------+----------+--------------------+----------------------+--------------------+--------+--------------+--------------------+--------------------+--------------------+------------------+--------------------+--------------------+------------------+-------------------+------------------+--------------------+\n",
      "|summary|         created_utc|subreddit_id| link_id|      name|        score_hidden|author_flair_css_class|   author_flair_text|      id|removal_reason|              gilded|            archived|              author|             score|        retrieved_on|                body|     distinguished|             edited|  controversiality|           parent_id|\n",
      "+-------+--------------------+------------+--------+----------+--------------------+----------------------+--------------------+--------+--------------+--------------------+--------------------+--------------------+------------------+--------------------+--------------------+------------------+-------------------+------------------+--------------------+\n",
      "|  count|            37868338|    37868338|37868338|  37868338|            37868338|              11888947|            10341343|37868338|             3|            37868338|            37868338|            37868338|          37868338|            37868338|            37868338|             57673|           37868335|          37868331|            37868338|\n",
      "|   mean|1.4317811259689238E9|         6.0|     4.0|       5.0|0.001291289836908...|              Infinity|            Infinity|     5.0|           5.0|2.151401521767340...|1.320364257866294...|            Infinity| 5.742138960521584|1.4330618384322717E9|                 NaN|               1.0|1.565818909519707E7|0.5537757130093746|                 0.0|\n",
      "| stddev|    806059.480069776|        NULL|    NULL|      NULL|0.035922342074205624|                   NaN|                 NaN|    NULL|          NULL|0.015619969375664995|8.125159253412512E-4|                 NaN|48.223446067798946|   324132.7303326962|                 NaN|1.0954451150103321|1.489102235959439E8|3269.8127012015143|                NULL|\n",
      "|    min|                   4|           6|       4|         5|                   0|                      |     \\t(╯°□°)╯︵ ┻━┻|       5|             5|                   0|                   0|                 ---|              -964|                   5|\u0004How does DNS com...|                  |                 40|                 0| &amp; 6. Makes c...|\n",
      "|    max|          1433116799|      t5_vf2|t3_ly52n|t1_crrbeoy|                   6|         zzzzzShivGold|🚶🚶🚶🚶🚶🚶🚶🚶?...| crrbeoy|         legal|                  10|                   5|zzzzzzzzzzzzzzzzspaf|              6761|          1435758762|              󾠳󾠶🔞|             ymmoM|              ymmoM|          20121528|     y WhhhaAA!?\"\". |\n",
      "+-------+--------------------+------------+--------+----------+--------------------+----------------------+--------------------+--------+--------------+--------------------+--------------------+--------------------+------------------+--------------------+--------------------+------------------+-------------------+------------------+--------------------+\n",
      "\n"
     ]
    },
    {
     "name": "stderr",
     "output_type": "stream",
     "text": [
      "                                                                                \r"
     ]
    }
   ],
   "source": [
    "dataset.dataframe.describe().show()"
   ]
  },
  {
   "cell_type": "code",
   "execution_count": null,
   "metadata": {},
   "outputs": [],
   "source": []
  }
 ],
 "metadata": {
  "kernelspec": {
   "display_name": "Python 3 (ipykernel)",
   "language": "python",
   "name": "python3"
  },
  "language_info": {
   "codemirror_mode": {
    "name": "ipython",
    "version": 3
   },
   "file_extension": ".py",
   "mimetype": "text/x-python",
   "name": "python",
   "nbconvert_exporter": "python",
   "pygments_lexer": "ipython3",
   "version": "3.11.6"
  }
 },
 "nbformat": 4,
 "nbformat_minor": 4
}

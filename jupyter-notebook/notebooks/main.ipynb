{
 "cells": [
  {
   "cell_type": "code",
   "execution_count": 3,
   "metadata": {},
   "outputs": [
    {
     "name": "stdout",
     "output_type": "stream",
     "text": [
      "StructType([StructField('created_utc', IntegerType(), True), StructField('subreddit_id', StringType(), True), StructField('link_id', StringType(), True), StructField('name', StringType(), True), StructField('score_hidden', StringType(), True), StructField('author_flair_css_class', StringType(), True), StructField('author_flair_text', StringType(), True), StructField('id', StringType(), True), StructField('removal_reason', StringType(), True), StructField('gilded', IntegerType(), True), StructField('archived', StringType(), True), StructField('author', StringType(), True), StructField('score', IntegerType(), True), StructField('retrieved_on', IntegerType(), True), StructField('body', StringType(), True), StructField('distinguished', StringType(), True), StructField('edited', StringType(), True), StructField('controversiality', IntegerType(), True), StructField('parent_id', StringType(), True)])\n"
     ]
    }
   ],
   "source": [
    "from spark.dataset import Dataset\n",
    "\n",
    "\n",
    "hdfs_path = \"hdfs://namenode:9000/user/spark/reddit_comments/\"\n",
    "spark_master = \"spark://spark-master:7077\"\n",
    "\n",
    "dataset = Dataset(hdfs_path, spark_master)\n",
    "dataset.pre_process()\n",
    "\n",
    "# Test\n",
    "dataset.dataframe.sort(\"score\", ascending=False).show(10)"
   ]
  },
  {
   "cell_type": "code",
   "execution_count": null,
   "metadata": {},
   "outputs": [],
   "source": []
  }
 ],
 "metadata": {
  "kernelspec": {
   "display_name": "Python 3 (ipykernel)",
   "language": "python",
   "name": "python3"
  },
  "language_info": {
   "codemirror_mode": {
    "name": "ipython",
    "version": 3
   },
   "file_extension": ".py",
   "mimetype": "text/x-python",
   "name": "python",
   "nbconvert_exporter": "python",
   "pygments_lexer": "ipython3",
   "version": "3.11.6"
  }
 },
 "nbformat": 4,
 "nbformat_minor": 4
}
